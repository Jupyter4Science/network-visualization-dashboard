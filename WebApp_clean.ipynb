{
 "cells": [
  {
   "cell_type": "code",
   "execution_count": null,
   "id": "2f1d565d-12c7-4d09-98c5-b8c219a69f1a",
   "metadata": {},
   "outputs": [],
   "source": [
    "from web_app.web_app import tabs"
   ]
  },
  {
   "cell_type": "code",
   "execution_count": null,
   "id": "e2792e62-3102-467e-aa7f-e30bd30e9d9f",
   "metadata": {},
   "outputs": [
    {
     "data": {
      "application/vnd.jupyter.widget-view+json": {
       "model_id": "1f84bc2d15a145698e7a6fea76f051e5",
       "version_major": 2,
       "version_minor": 0
      },
      "text/plain": [
       "Tab(children=(VBox(children=(Accordion(children=(HTML(value=\"Welcome to the Agent-Based Modeling Visualization…"
      ]
     },
     "execution_count": null,
     "metadata": {},
     "output_type": "execute_result"
    }
   ],
   "source": [
    "tabs"
   ]
  },
  {
   "cell_type": "code",
   "execution_count": null,
   "id": "dcc7a7af-cdd9-48a3-afa8-5b2e79e77fb0",
   "metadata": {},
   "outputs": [],
   "source": []
  }
 ],
 "metadata": {
  "kernelspec": {
   "display_name": "python3",
   "language": "python",
   "name": "python3"
  }
 },
 "nbformat": 4,
 "nbformat_minor": 5
}
