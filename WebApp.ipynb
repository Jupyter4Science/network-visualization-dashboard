{
 "cells": [
  {
   "cell_type": "code",
   "execution_count": 2,
   "id": "0e7c01a3-f18c-4825-8965-883973137d91",
   "metadata": {
    "scrolled": true
   },
   "outputs": [],
   "source": [
    "import pprint\n",
    "from fastcore.basics import patch\n",
    "import networkx as nx\n",
    "# import matplotlib.pyplot as plt\n",
    "import ipywidgets as widgets\n",
    "import ipycytoscape\n",
    "from ipycytoscape import CytoscapeWidget\n",
    "from IPython.display import display, clear_output, HTML\n",
    "from ipywidgets import Output\n",
    "from pprint import pformat\n",
    "import pandas as pd\n",
    "from ipydatagrid import DataGrid\n",
    "from ipywidgets import Tab\n",
    "from itertools import product\n"
   ]
  },
  {
   "cell_type": "code",
   "execution_count": 3,
   "id": "16977126-56a1-48e5-ae05-e64e6c060f6f",
   "metadata": {},
   "outputs": [],
   "source": [
    "from preprocessing.objects import create_objects"
   ]
  },
  {
   "cell_type": "code",
   "execution_count": 4,
   "id": "62a3d702-796b-45f2-8f05-e9c66a615d8a",
   "metadata": {},
   "outputs": [],
   "source": [
    "from preprocessing.author import Author"
   ]
  },
  {
   "cell_type": "code",
   "execution_count": 5,
   "id": "4c19fe5b-33b8-4c57-a6df-83c3d8de4359",
   "metadata": {
    "scrolled": true
   },
   "outputs": [],
   "source": [
    "\n",
    "author_list, publication_list = create_objects('Catalogdatabase-till2018b.xlsx', n=50)"
   ]
  },
  {
   "cell_type": "code",
   "execution_count": 6,
   "id": "e0d800c1-1cf7-457c-a259-e751cecbfef9",
   "metadata": {},
   "outputs": [],
   "source": [
    "authors = author_list\n",
    "publications = publication_list"
   ]
  },
  {
   "cell_type": "code",
   "execution_count": 7,
   "id": "363f121b-9726-4047-a46f-5be8248fad25",
   "metadata": {},
   "outputs": [],
   "source": [
    "publication_a = publications[3]"
   ]
  },
  {
   "cell_type": "code",
   "execution_count": 8,
   "id": "cf0ae212-57f4-4105-82aa-39b4a42700e1",
   "metadata": {},
   "outputs": [],
   "source": [
    "publication_b = publications[4]"
   ]
  },
  {
   "cell_type": "code",
   "execution_count": 9,
   "id": "ab2617b7-8df5-44c3-85cb-3911258180ac",
   "metadata": {},
   "outputs": [
    {
     "data": {
      "text/plain": [
       "[]"
      ]
     },
     "execution_count": 9,
     "metadata": {},
     "output_type": "execute_result"
    }
   ],
   "source": [
    "common_authors = [ author_i for author_i , author_j in product(publication_a.authors, publication_b.authors) if author_i.same_name(author_j)]\n",
    "common_authors"
   ]
  },
  {
   "cell_type": "code",
   "execution_count": 11,
   "id": "f94681c8-9c38-4c9f-976f-6d77ec496044",
   "metadata": {},
   "outputs": [],
   "source": [
    "author_a = author_list[author_list.bisect_left(Author('Podger', 'Geoff'))]\n",
    "author_b = author_list[author_list.bisect_left(Author('Power', 'Robert'))]\n"
   ]
  },
  {
   "cell_type": "code",
   "execution_count": 12,
   "id": "f55c6758-82ec-49c3-b755-f4a5609fb405",
   "metadata": {},
   "outputs": [],
   "source": [
    "common_publications = set(author_a.publications).intersection(author_b.publications)\n"
   ]
  },
  {
   "cell_type": "code",
   "execution_count": 13,
   "id": "a065bffe-6de6-423c-bc66-3bbe1b97caf0",
   "metadata": {
    "scrolled": true
   },
   "outputs": [],
   "source": [
    "##%time\n",
    "#### Step 1: Making sure correct matches are found between authors ####\n",
    "\n",
    "# Create the graph\n",
    "G_authors = nx.Graph()\n",
    "\n",
    "# Define the graph with authors as nodes\n",
    "#G_authors = nx.Graph()\n",
    "\n",
    "# Add nodes to the graph\n",
    "for author in authors:\n",
    "    G_authors.add_node(author, tooltip=author.__repr__())\n",
    "    \n",
    "for index_a in range(len(authors)):\n",
    "    for index_b in range(index_a + 1, len(authors)):\n",
    "        author_a = authors[index_a]\n",
    "        author_b = authors[index_b]\n",
    "\n",
    "        #### WORK?? Should be a publication list\n",
    "        common_publications = list(set(author_a.publications).intersection(author_b.publications))\n",
    "        if common_publications:\n",
    "            # Add the weighted edge to the graph\n",
    "            \n",
    "            ##### Can we have both object and weight??\n",
    "            G_authors.add_edge(author_a, author_b, weight = len(common_publications)) #, weight = len(common_publications)\n",
    "\n",
    "\n"
   ]
  },
  {
   "cell_type": "code",
   "execution_count": 14,
   "id": "139ac0d4-5e7d-474d-b57a-bcd37c01e1cf",
   "metadata": {},
   "outputs": [],
   "source": [
    "#nx.draw(G)\n",
    "cyto = ipycytoscape.CytoscapeWidget()\n",
    "cyto.graph.add_graph_from_networkx(G_authors)"
   ]
  },
  {
   "cell_type": "code",
   "execution_count": 16,
   "id": "e3e7e045-a637-4b5b-9245-a3c30bea7912",
   "metadata": {
    "scrolled": true
   },
   "outputs": [],
   "source": [
    "## %time \n",
    "# Define the graph with publications as nodes\n",
    "G_publications = nx.Graph()\n",
    "\n",
    "for publication in publications:\n",
    "    G_publications.add_node(publication, tooltip=author.__repr__())\n",
    "    \n",
    "\n",
    "for index_a in range(len(publications)):\n",
    "    for index_b in range(index_a + 1, len(publications)):\n",
    "        publication_a = publications[index_a]\n",
    "        publication_b = publications[index_b]\n",
    "\n",
    "        common_authors = [ author_i for author_i , author_j in product(publication_a.authors, publication_b.authors) if author_i.same_name(author_j)]\n",
    "        if common_authors:            \n",
    "            ##### Can we have both object and weight??\n",
    "            G_publications.add_edge(publication_a, publication_b, object = common_authors) #, weight = len(common_publications))\n",
    "\n",
    "            #Comment out this part later\n",
    "            #print(f\"Match found between {publication_a} and {publication_b}\")\n",
    "            #print(f\"Matching Authors: {common_authors}\")\n",
    "            #print(f\"Weighted Edge: {publication_a} - {publication_b} (Weight: {len(common_authors)})\")\n",
    "            #print(\" \")\n",
    "\n"
   ]
  },
  {
   "cell_type": "code",
   "execution_count": 17,
   "id": "9c8f1a02-169f-4c6a-a791-cb5ca8786acf",
   "metadata": {},
   "outputs": [],
   "source": [
    "###'''cyto = ipycytoscape.CytoscapeWidget()\n",
    "###cyto.graph.add_graph_from_networkx(G_publications)\n",
    "###display(cyto)'''"
   ]
  },
  {
   "cell_type": "code",
   "execution_count": 26,
   "id": "750f2589-b8d3-40ba-a656-9a897b0dacb8",
   "metadata": {
    "scrolled": true
   },
   "outputs": [],
   "source": [
    "#### Step 2: Adding titles ####\n",
    "\n",
    "out = widgets.Output()\n",
    "# Create the Cytoscape graph widget\n",
    "cyto = ipycytoscape.CytoscapeWidget()\n",
    "cyto.graph.add_graph_from_networkx(G_authors)\n",
    "\n",
    "\n",
    "# Create a widgets.Textarea to display author information\n",
    "author_text_area = widgets.Textarea(\n",
    "    value='',\n",
    "    disabled = True,\n",
    "    placeholder='Hover over a node to see author information.',\n",
    "    layout=widgets.Layout(width='50%', height='200px', editable=False)  # Adjust width and height as needed\n",
    ")"
   ]
  },
  {
   "cell_type": "code",
   "execution_count": 27,
   "id": "26423ba0-4572-4696-860b-b7556c1b5985",
   "metadata": {
    "scrolled": true
   },
   "outputs": [
    {
     "data": {
      "text/html": [
       "<style>\n",
       ".tippy-tooltip {\n",
       "    background-color: white !important;\n",
       "}\n",
       "</style>"
      ],
      "text/plain": [
       "<IPython.core.display.HTML object>"
      ]
     },
     "metadata": {},
     "output_type": "display_data"
    }
   ],
   "source": [
    "def log_mouseovers(node):\n",
    "    with out:\n",
    "        clear_output()  # Clear the previous output before displaying new information\n",
    "        # Check if the node contains 'data' key and extract properties from it\n",
    "        if 'data' in node:\n",
    "            properties = node['data']['id']  # Change 'label' to the desired property key\n",
    "            author_text_area.value = properties  # Set the value of the textarea to the author information\n",
    "\n",
    "# Attach the mouseover and click callbacks to the Cytoscape widget\n",
    "cyto.on('node', 'mouseover', log_mouseovers)\n",
    "#cyto.on('node', 'click', log_clicks)\n",
    "\n",
    "# Dropdown widget to switch between types of nodes\n",
    "dropdown = widgets.Dropdown(options=['Authors', 'Publications'], value='Authors', description='Node Mode:')\n",
    "\n",
    "def update_graph(change):\n",
    "    selected_mode = dropdown.value\n",
    "    if selected_mode == 'Authors':\n",
    "        cyto.graph.clear()\n",
    "        cyto.graph.add_graph_from_networkx(G_authors)\n",
    "        display(cyto)\n",
    "    if selected_mode == 'Publications':\n",
    "        cyto.graph.clear()\n",
    "        #cyto.graph.add_graph_from_networkx(G_publications)\n",
    "\n",
    "\n",
    "# Create a label for the title with big, bold, and centered style\n",
    "title_label = widgets.HTML(\n",
    "    value = \"<h2>Network Graph</h2>\"\n",
    "    #style={'font-size': '24px', 'font-weight': 'bold', 'text-align': 'center', 'margin-bottom': '10px'}\n",
    ")\n",
    "\n",
    "## Create a list of dictionaries containing author information\n",
    "author_data = [\n",
    "    {\"first\": author.first, \"middle\": author.middle, \"last\": author.last, \"publications\": author.publications}\n",
    "    for author in authors\n",
    "]\n",
    "\n",
    "## Create a DataFrame from the author data\n",
    "authors_df = pd.DataFrame(author_data)\n",
    "\n",
    "## Create the datagrid and display it\n",
    "datagrid = DataGrid(authors_df, editable=False, layout={\"height\": \"200px\"})\n",
    "\n",
    "# Create a layout for the VBox to set space between the components\n",
    "vbox_layout = widgets.Layout(margin='10px 300px 10px 50px')\n",
    "\n",
    "# Custom CSS style to change tooltip's background color\n",
    "custom_style = \"\"\"\n",
    ".tippy-tooltip {\n",
    "    background-color: white !important;\n",
    "}\n",
    "\"\"\"\n",
    "\n",
    "# Display the custom CSS style\n",
    "display(HTML(f\"<style>{custom_style}</style>\"))"
   ]
  },
  {
   "cell_type": "code",
   "execution_count": 28,
   "id": "acebfcc4-2d45-4eb0-abd2-68d042cad31e",
   "metadata": {
    "scrolled": true
   },
   "outputs": [],
   "source": [
    "########### FIRST TAB #############\n",
    "\n",
    "# Create accordion widgets for the \"Welcome\" tab\n",
    "accordion_welcome = widgets.Accordion(children=[\n",
    "    widgets.HTML(\"Welcome to the Agent-Based Modeling Visualization Web App! This interactive tool provides a dynamic way to explore and analyze code sharing and model documentation practices in individual-based and agent-based models since the inception of the field in the 80’s. This tool allows user to explore the properties of and relationships among 7500 hand picked articles describing IBMs or ABMs across awide range of research domains up to the year 2018.\")\n",
    "])\n",
    "\n",
    "accordion_welcome.set_title(0, 'Welcome!')\n",
    "accordion_welcome.selected_index = 0\n",
    "\n",
    "accordion_about_dataset = widgets.Accordion(children=[\n",
    "    widgets.HTML(\"1. Welcome Tab: Begin your journey by visiting the Welcome tab. Here, you'll find essential information about the web app's features and functionalities. <br> 2. Setup Tab: Switch to the Setup tab to access the dataset configuration options. <br> 3. Graph Tab: Move on to the Graph tab to visualize the network graph representation of authors/nodes and their collaborative connections. Hover over nodes to view author information and click to explore further. <br> 4. Export Tab: In the Export tab, you can choose to download the graph visualization in either Excel (XLSX) or CSV format. While the download functionality is under development, the dropdown menu allows you to select your preferred file format\")\n",
    "])\n",
    "                \n",
    "accordion_about_dataset.set_title(0, 'How to Use the Web-App')\n",
    "\n",
    "accordion_key_features = widgets.Accordion(children=[\n",
    "    widgets.HTML(\"Key Features of the Web App: <br> - Network Visualization: Gain insights into collaboration patterns among authors using an interactive network graph. The graph highlights relationships based on shared publications. <br> - Dynamic Exploration: Hover over nodes for author details, click to reveal deeper connections, and analyze the co-authorship network.<br> - Download Options: The 'Export' tab allows you to choose your preferred file format for downloading the network graph visualization. While the functionality is currently static, it will soon enable you to save your insights for further analysis.\")\n",
    "])\n",
    "accordion_key_features.set_title(0, 'Key Features of the Web App')\n",
    "\n",
    "# Create a button to navigate to the next tab\n",
    "def switch_to_next_tab(_):\n",
    "    tabs.selected_index = 1  # Change the selected index to switch to the next tab\n",
    "\n",
    "next_tab_button = widgets.Button(description=\"Next\")\n",
    "next_tab_button.on_click(switch_to_next_tab)\n",
    "\n",
    "# Create Welcome tab content with accordion widgets\n",
    "welcome_tab_content = widgets.VBox([\n",
    "    accordion_welcome,\n",
    "    accordion_key_features,\n",
    "    accordion_about_dataset,\n",
    "    next_tab_button\n",
    "])"
   ]
  },
  {
   "cell_type": "code",
   "execution_count": 29,
   "id": "098a5db6-f6f7-4073-b153-35e37e59bb66",
   "metadata": {
    "scrolled": true
   },
   "outputs": [],
   "source": [
    "########### SECOND TAB #############\n",
    "\n",
    "# Create a process button\n",
    "def on_process_button_click(button):\n",
    "    # Switch to the second tab (index 1) when the button is clicked\n",
    "    tabs.selected_index = 2\n",
    "\n",
    "# Create a process button\n",
    "process_button = widgets.Button(description='Process', layout=widgets.Layout(width='auto', background_color='lightblue', color='black'))\n",
    "    \n",
    "# Attach the event handler to the process button\n",
    "process_button.on_click(on_process_button_click)\n",
    "\n",
    "# Add the process button to the setup_tab\n",
    "setup_tab = widgets.VBox([datagrid, dropdown, process_button], layout=vbox_layout)\n",
    "setup_tab_with_button = widgets.VBox([setup_tab, process_button], layout=vbox_layout)"
   ]
  },
  {
   "cell_type": "code",
   "execution_count": null,
   "id": "b7a244d0-332d-402f-8297-15aacf3f1f7f",
   "metadata": {},
   "outputs": [],
   "source": []
  },
  {
   "cell_type": "code",
   "execution_count": 30,
   "id": "318b2747-4241-4940-8651-d0c8fbfc9357",
   "metadata": {
    "scrolled": true
   },
   "outputs": [
    {
     "data": {
      "application/vnd.jupyter.widget-view+json": {
       "model_id": "dd55489b501643ff9f3a84b9b4829b53",
       "version_major": 2,
       "version_minor": 0
      },
      "text/plain": [
       "VBox(children=(HTML(value='<h2>Network Graph</h2>'), Tab(children=(VBox(children=(Accordion(children=(HTML(val…"
      ]
     },
     "metadata": {},
     "output_type": "display_data"
    }
   ],
   "source": [
    "########### THIRD TAB #############\n",
    "\n",
    "# Create Graph tab with cytograph and textarea\n",
    "graph_tab = widgets.HBox([author_text_area, (cyto)], layout=widgets.Layout(width='100%', height='100%', align_items='stretch'))\n",
    "\n",
    "# Register the event handler for the dropdown\n",
    "dropdown.observe(update_graph, names='value')\n",
    "\n",
    "\n",
    "########### FOURTH TAB #############\n",
    "# Create Export tab content\n",
    "export_tab_content = widgets.VBox([\n",
    "    widgets.Dropdown(options=['.zip', 'Excel (XLSX)', 'CSV'], value='.zip', description='File Format:'),\n",
    "    widgets.Button(description='Download', layout=widgets.Layout(width='auto', background_color='lightgreen', color='black')),\n",
    "    widgets.HTML(\"<p>For more information about how the database was created and how model descriptions were categorized, visit <a href='https://doi.org/10.1016/j.envsoft.2020.104873' style='color: blue;'>On code sharing and model documentation of published individual and agent-based models</a>.</p>\")\n",
    "])\n",
    "\n",
    "\n",
    "# Create the Tabs widget with Welcome, Setup, Graph, and Export tabs\n",
    "tabs = widgets.Tab(children=[welcome_tab_content, setup_tab, graph_tab, export_tab_content])\n",
    "tabs.set_title(0, 'Welcome')\n",
    "tabs.set_title(1, 'Setup')\n",
    "tabs.set_title(2, 'Graph')\n",
    "tabs.set_title(3, 'Export')\n",
    "\n",
    "\n",
    "# Display the widgets\n",
    "display(widgets.VBox([title_label, tabs]))"
   ]
  },
  {
   "cell_type": "code",
   "execution_count": null,
   "id": "e08eebab-1107-45cc-b775-ff0d2342031b",
   "metadata": {},
   "outputs": [],
   "source": []
  },
  {
   "cell_type": "code",
   "execution_count": null,
   "id": "a4498d9f-94f7-402a-9ca5-76c176df835c",
   "metadata": {},
   "outputs": [],
   "source": []
  }
 ],
 "metadata": {
  "kernelspec": {
   "display_name": "Python 3 (ipykernel)",
   "language": "python",
   "name": "python3"
  },
  "language_info": {
   "codemirror_mode": {
    "name": "ipython",
    "version": 3
   },
   "file_extension": ".py",
   "mimetype": "text/x-python",
   "name": "python",
   "nbconvert_exporter": "python",
   "pygments_lexer": "ipython3",
   "version": "3.8.17"
  }
 },
 "nbformat": 4,
 "nbformat_minor": 5
}
